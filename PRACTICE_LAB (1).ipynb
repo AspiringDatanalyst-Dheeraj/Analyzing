{
 "cells": [
  {
   "cell_type": "code",
   "execution_count": null,
   "id": "082eccc2-6f74-4a24-8a41-802eb45be345",
   "metadata": {
    "tags": []
   },
   "outputs": [],
   "source": [
    "%load_ext sql"
   ]
  },
  {
   "cell_type": "code",
   "execution_count": null,
   "id": "f93d1bc8-6e27-4c33-94d3-bb703394f283",
   "metadata": {
    "tags": []
   },
   "outputs": [],
   "source": [
    "import csv, sqlite3\n",
    "\n",
    "con = sqlite3.connect(\"socioeconomic.db\")\n",
    "cur = con.cursor()\n",
    "!pip install -q pandas==1.1.5"
   ]
  },
  {
   "cell_type": "code",
   "execution_count": null,
   "id": "59801d7d-5823-402b-bd6f-8f61034cd545",
   "metadata": {
    "tags": []
   },
   "outputs": [],
   "source": [
    "%sql sqlite:///socioeconomic.db"
   ]
  },
  {
   "cell_type": "code",
   "execution_count": null,
   "id": "b64cb75b-e14e-4895-b820-4d77127972c4",
   "metadata": {
    "tags": []
   },
   "outputs": [],
   "source": [
    "import pandas\n",
    "df = pandas.read_csv('https://data.cityofchicago.org/resource/jcxq-k9xf.csv')\n",
    "df.to_sql(\"chicago_socioeconomic_data\", con, if_exists='replace', index=False,method=\"multi\")"
   ]
  },
  {
   "cell_type": "code",
   "execution_count": null,
   "id": "1d459d09-1b6a-4e4d-a7f1-2377ed444c27",
   "metadata": {},
   "outputs": [],
   "source": [
    "#how many rows in a dataset ?"
   ]
  },
  {
   "cell_type": "code",
   "execution_count": null,
   "id": "db90a7de-02da-4be2-8bbb-65bd0407ba14",
   "metadata": {
    "tags": []
   },
   "outputs": [],
   "source": [
    "%sql SELECT * FROM chicago_socioeconomic_data limit 5;"
   ]
  },
  {
   "cell_type": "code",
   "execution_count": null,
   "id": "183e50d4-c74d-4764-b07e-2415efcbd8d8",
   "metadata": {},
   "outputs": [],
   "source": [
    "##How many community areas in Chicago have a hardship index greater than 50.0?"
   ]
  },
  {
   "cell_type": "code",
   "execution_count": null,
   "id": "051e8277-806d-4298-be3e-51458f6435a2",
   "metadata": {
    "tags": []
   },
   "outputs": [],
   "source": [
    "%sql SELECT COUNT (*) FROM chicago_socioeconomic_data WHERE hardship_index > 50.0;"
   ]
  },
  {
   "cell_type": "code",
   "execution_count": null,
   "id": "2057fadb-de1f-4bf8-9b60-cf8e7921c254",
   "metadata": {},
   "outputs": [],
   "source": [
    "## What is the maximum value of hardship index in this dataset?"
   ]
  },
  {
   "cell_type": "code",
   "execution_count": 18,
   "id": "45084555-5106-4aec-88c0-0cbe918c54dc",
   "metadata": {
    "tags": []
   },
   "outputs": [
    {
     "name": "stdout",
     "output_type": "stream",
     "text": [
      " * sqlite:///socioeconomic.db\n",
      "Done.\n"
     ]
    },
    {
     "data": {
      "text/html": [
       "<table>\n",
       "    <thead>\n",
       "        <tr>\n",
       "            <th>MAX(hardship_index)</th>\n",
       "        </tr>\n",
       "    </thead>\n",
       "    <tbody>\n",
       "        <tr>\n",
       "            <td>98.0</td>\n",
       "        </tr>\n",
       "    </tbody>\n",
       "</table>"
      ],
      "text/plain": [
       "[(98.0,)]"
      ]
     },
     "execution_count": 18,
     "metadata": {},
     "output_type": "execute_result"
    }
   ],
   "source": [
    "%sql SELECT MAX(hardship_index) FROM chicago_socioeconomic_data;"
   ]
  },
  {
   "cell_type": "code",
   "execution_count": null,
   "id": "bdbf7ccc-c9b4-4efb-aa9d-3459f01cc632",
   "metadata": {},
   "outputs": [],
   "source": [
    "## Which community area which has the highest hardship index?"
   ]
  },
  {
   "cell_type": "code",
   "execution_count": null,
   "id": "8cc4f44f-7041-470a-8fa1-6ad71f32c49f",
   "metadata": {
    "tags": []
   },
   "outputs": [],
   "source": [
    "%sql SELECT community_area_name FROM chicago_socioeconomic_data WHERE hardship_index = (select max(hardship_index) from chicago_socioeconomic_data); "
   ]
  },
  {
   "cell_type": "code",
   "execution_count": null,
   "id": "5bc97776-b5df-4866-b96c-9b3999555858",
   "metadata": {
    "tags": []
   },
   "outputs": [],
   "source": [
    "##Which Chicago community areas have per-capita incomes greater than $60,000?"
   ]
  },
  {
   "cell_type": "code",
   "execution_count": null,
   "id": "c3717c47-07ce-4586-98fd-4ace6ac24da0",
   "metadata": {
    "tags": []
   },
   "outputs": [],
   "source": [
    "%sql SELECT community_area_name FROM chicago_socioeconomic_data WHERE per_capita_income_ > 60000;"
   ]
  },
  {
   "cell_type": "code",
   "execution_count": null,
   "id": "4576b88a-f9c0-47d7-80dd-f93df237246d",
   "metadata": {},
   "outputs": [],
   "source": []
  }
 ],
 "metadata": {
  "kernelspec": {
   "display_name": "Python",
   "language": "python",
   "name": "conda-env-python-py"
  },
  "language_info": {
   "codemirror_mode": {
    "name": "ipython",
    "version": 3
   },
   "file_extension": ".py",
   "mimetype": "text/x-python",
   "name": "python",
   "nbconvert_exporter": "python",
   "pygments_lexer": "ipython3",
   "version": "3.7.12"
  }
 },
 "nbformat": 4,
 "nbformat_minor": 5
}
